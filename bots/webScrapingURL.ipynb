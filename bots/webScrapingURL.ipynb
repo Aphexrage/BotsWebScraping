{
 "cells": [
  {
   "cell_type": "code",
   "execution_count": null,
   "id": "9a167093",
   "metadata": {},
   "outputs": [],
   "source": [
    "import os\n",
    "from langchain_groq import ChatGroq\n",
    "from langchain.prompts import ChatPromptTemplate\n",
    "from langchain_community.document_loaders import WebBaseLoader"
   ]
  },
  {
   "cell_type": "code",
   "execution_count": null,
   "id": "14ac1fe0",
   "metadata": {},
   "outputs": [],
   "source": [
    "url = input('Informe a URL:')\n",
    "\n",
    "loader = WebBaseLoader(f\" {url}\")\n",
    "lista_documentos = loader.load()\n",
    "\n",
    "documento = ''\n",
    "for doc in lista_documentos:\n",
    "    documento = documento + doc.page_content\n",
    "\n",
    "api_key = 'api groq'\n",
    "os.environ['GROQ_API_KEY'] = api_key\n",
    "\n",
    "chat = ChatGroq(model='llama-3.3-70b-versatile')\n",
    "\n",
    "template = ChatPromptTemplate.from_messages([\n",
    "    ('system', 'Você é um assistente chamado Gusta MK2 e você tem acesso às seguintes informações para dar as suas respostas: {documentos_informados}'),\n",
    "    ('user', '{input}')\n",
    "])\n",
    "\n",
    "pesquisa = input('O que deseja saber?')\n",
    "\n",
    "chain = template | chat \n",
    "resposta = chain.invoke({'documentos_informados' : documento, 'input' : pesquisa})\n",
    "\n",
    "print(resposta.content)"
   ]
  }
 ],
 "metadata": {
  "language_info": {
   "name": "python"
  }
 },
 "nbformat": 4,
 "nbformat_minor": 5
}
