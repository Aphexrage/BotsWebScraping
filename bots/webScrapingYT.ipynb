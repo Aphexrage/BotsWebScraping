{
 "cells": [
  {
   "cell_type": "code",
   "execution_count": 1,
   "id": "5f676f9a",
   "metadata": {},
   "outputs": [
    {
     "name": "stdout",
     "output_type": "stream",
     "text": [
      "foreign [Music] foreign [Music] [Music] [Music] foreign [Music] [Music] thank you [Music] foreign [Music] [Music] [Music] thank you [Music] foreign [Music] [Music] foreign [Music] [Music] hahaha [Music] [Music] foreign [Music] [Music] foreign [Music] foreign [Music] foreign foreign [Music] [Music] foreign [Music] [Music] foreign [Music] [Applause] [Music] foreign [Music] foreign [Music] [Music] foreign [Music] foreign [Music] foreign foreign [Music] foreign [Music] foreign [Music] thank you [Music] [Music] [Music] foreign [Music] [Music] foreign [Music] [Music] foreign [Music] [Music] thank you foreign [Music] foreign [Music] [Music] [Music] [Music] thank you [Music] [Music] foreign [Music] foreign [Music] foreign [Music] [Music] thank you [Music] thank you [Music] okay [Music] [Music] foreign foreign [Music] [Music] [Music] foreign [Music] [Applause] [Music] [Music] foreign [Music] foreign [Music] foreign [Music] foreign [Music] thank you [Music] [Music] foreign [Music] foreign [Music] [Music] foreign [Music] [Music] thank you [Music] [Music] [Music] thank you [Music] hmm [Music] thank you [Music] foreign [Music] [Music] foreign [Music] [Music] [Music] [Music] foreign\n"
     ]
    }
   ],
   "source": [
    "from langchain_community.document_loaders import YoutubeLoader\n",
    "\n",
    "url = input(\"Informe o URL\")\n",
    "\n",
    "loader = YoutubeLoader.from_youtube_url(\n",
    "    url,\n",
    "    language=['pt']\n",
    ")\n",
    "\n",
    "lista_documentos = loader.load()\n",
    "\n",
    "documento = ''\n",
    "for doc in lista_documentos:\n",
    "    documento = documento + doc.page_content\n",
    "print(documento)"
   ]
  }
 ],
 "metadata": {
  "kernelspec": {
   "display_name": "Python 3",
   "language": "python",
   "name": "python3"
  },
  "language_info": {
   "codemirror_mode": {
    "name": "ipython",
    "version": 3
   },
   "file_extension": ".py",
   "mimetype": "text/x-python",
   "name": "python",
   "nbconvert_exporter": "python",
   "pygments_lexer": "ipython3",
   "version": "3.11.9"
  }
 },
 "nbformat": 4,
 "nbformat_minor": 5
}
